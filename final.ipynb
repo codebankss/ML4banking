{
 "cells": [
  {
   "cell_type": "code",
   "execution_count": 33,
   "metadata": {},
   "outputs": [],
   "source": [
    "import pandas as pd\n",
    "import numpy as np\n",
    "from matplotlib import pyplot as plt\n",
    "\n",
    "from sklearn.preprocessing import StandardScaler\n",
    "\n",
    "from xgboost import XGBClassifier\n",
    "from sklearn.model_selection import GridSearchCV\n",
    "\n",
    "import warnings\n",
    "warnings.filterwarnings(\"ignore\")"
   ]
  },
  {
   "cell_type": "code",
   "execution_count": 34,
   "metadata": {},
   "outputs": [],
   "source": [
    "train = pd.read_csv('train_fNxu4vz.csv')\n",
    "y = train.Interest_Rate"
   ]
  },
  {
   "cell_type": "code",
   "execution_count": 35,
   "metadata": {},
   "outputs": [],
   "source": [
    "test = pd.read_csv('test_fjtUOL8.csv')"
   ]
  },
  {
   "cell_type": "code",
   "execution_count": 36,
   "metadata": {},
   "outputs": [],
   "source": [
    "train_2 = train.copy()\n",
    "train_2.drop(['Interest_Rate'], axis=1, inplace=True)"
   ]
  },
  {
   "cell_type": "code",
   "execution_count": 37,
   "metadata": {},
   "outputs": [],
   "source": [
    "data = pd.concat([train_2, test], axis=0)\n",
    "data.drop(['Loan_ID'], axis=1, inplace=True)"
   ]
  },
  {
   "cell_type": "code",
   "execution_count": 38,
   "metadata": {},
   "outputs": [
    {
     "data": {
      "text/html": [
       "<div>\n",
       "<style scoped>\n",
       "    .dataframe tbody tr th:only-of-type {\n",
       "        vertical-align: middle;\n",
       "    }\n",
       "\n",
       "    .dataframe tbody tr th {\n",
       "        vertical-align: top;\n",
       "    }\n",
       "\n",
       "    .dataframe thead th {\n",
       "        text-align: right;\n",
       "    }\n",
       "</style>\n",
       "<table border=\"1\" class=\"dataframe\">\n",
       "  <thead>\n",
       "    <tr style=\"text-align: right;\">\n",
       "      <th></th>\n",
       "      <th>Annual_Income</th>\n",
       "      <th>Debt_To_Income</th>\n",
       "      <th>Inquiries_Last_6Mo</th>\n",
       "      <th>Months_Since_Deliquency</th>\n",
       "      <th>Number_Open_Accounts</th>\n",
       "      <th>Total_Accounts</th>\n",
       "    </tr>\n",
       "  </thead>\n",
       "  <tbody>\n",
       "    <tr>\n",
       "      <th>Annual_Income</th>\n",
       "      <td>1.000000</td>\n",
       "      <td>-0.180756</td>\n",
       "      <td>0.058453</td>\n",
       "      <td>-0.055736</td>\n",
       "      <td>0.149062</td>\n",
       "      <td>0.211464</td>\n",
       "    </tr>\n",
       "    <tr>\n",
       "      <th>Debt_To_Income</th>\n",
       "      <td>-0.180756</td>\n",
       "      <td>1.000000</td>\n",
       "      <td>-0.005079</td>\n",
       "      <td>0.006626</td>\n",
       "      <td>0.303119</td>\n",
       "      <td>0.228669</td>\n",
       "    </tr>\n",
       "    <tr>\n",
       "      <th>Inquiries_Last_6Mo</th>\n",
       "      <td>0.058453</td>\n",
       "      <td>-0.005079</td>\n",
       "      <td>1.000000</td>\n",
       "      <td>0.011673</td>\n",
       "      <td>0.099949</td>\n",
       "      <td>0.132369</td>\n",
       "    </tr>\n",
       "    <tr>\n",
       "      <th>Months_Since_Deliquency</th>\n",
       "      <td>-0.055736</td>\n",
       "      <td>0.006626</td>\n",
       "      <td>0.011673</td>\n",
       "      <td>1.000000</td>\n",
       "      <td>-0.050122</td>\n",
       "      <td>-0.060633</td>\n",
       "    </tr>\n",
       "    <tr>\n",
       "      <th>Number_Open_Accounts</th>\n",
       "      <td>0.149062</td>\n",
       "      <td>0.303119</td>\n",
       "      <td>0.099949</td>\n",
       "      <td>-0.050122</td>\n",
       "      <td>1.000000</td>\n",
       "      <td>0.681922</td>\n",
       "    </tr>\n",
       "    <tr>\n",
       "      <th>Total_Accounts</th>\n",
       "      <td>0.211464</td>\n",
       "      <td>0.228669</td>\n",
       "      <td>0.132369</td>\n",
       "      <td>-0.060633</td>\n",
       "      <td>0.681922</td>\n",
       "      <td>1.000000</td>\n",
       "    </tr>\n",
       "  </tbody>\n",
       "</table>\n",
       "</div>"
      ],
      "text/plain": [
       "                         Annual_Income  Debt_To_Income  Inquiries_Last_6Mo  \\\n",
       "Annual_Income                 1.000000       -0.180756            0.058453   \n",
       "Debt_To_Income               -0.180756        1.000000           -0.005079   \n",
       "Inquiries_Last_6Mo            0.058453       -0.005079            1.000000   \n",
       "Months_Since_Deliquency      -0.055736        0.006626            0.011673   \n",
       "Number_Open_Accounts          0.149062        0.303119            0.099949   \n",
       "Total_Accounts                0.211464        0.228669            0.132369   \n",
       "\n",
       "                         Months_Since_Deliquency  Number_Open_Accounts  \\\n",
       "Annual_Income                          -0.055736              0.149062   \n",
       "Debt_To_Income                          0.006626              0.303119   \n",
       "Inquiries_Last_6Mo                      0.011673              0.099949   \n",
       "Months_Since_Deliquency                 1.000000             -0.050122   \n",
       "Number_Open_Accounts                   -0.050122              1.000000   \n",
       "Total_Accounts                         -0.060633              0.681922   \n",
       "\n",
       "                         Total_Accounts  \n",
       "Annual_Income                  0.211464  \n",
       "Debt_To_Income                 0.228669  \n",
       "Inquiries_Last_6Mo             0.132369  \n",
       "Months_Since_Deliquency       -0.060633  \n",
       "Number_Open_Accounts           0.681922  \n",
       "Total_Accounts                 1.000000  "
      ]
     },
     "execution_count": 38,
     "metadata": {},
     "output_type": "execute_result"
    }
   ],
   "source": [
    "data.corr()"
   ]
  },
  {
   "cell_type": "markdown",
   "metadata": {},
   "source": [
    "## Missing Values"
   ]
  },
  {
   "cell_type": "code",
   "execution_count": 39,
   "metadata": {},
   "outputs": [],
   "source": [
    "data['Length_Employed'].fillna('other', inplace=True)\n",
    "data['Home_Owner'].fillna('Other', inplace = True)\n",
    "data.Annual_Income.fillna(999999999999, inplace=True)\n",
    "data.Months_Since_Deliquency.fillna(999, inplace=True)"
   ]
  },
  {
   "cell_type": "code",
   "execution_count": null,
   "metadata": {},
   "outputs": [],
   "source": []
  },
  {
   "cell_type": "markdown",
   "metadata": {},
   "source": [
    "## Data Cleanup"
   ]
  },
  {
   "cell_type": "code",
   "execution_count": 52,
   "metadata": {},
   "outputs": [],
   "source": [
    " def extract_num(a_string):\n",
    "    split = a_string.split()\n",
    "    if split[0].isdigit() == True:\n",
    "        return int(split[0])\n",
    "    elif split[0] == '10+':\n",
    "        return 10\n",
    "    elif split[0] == 'other':\n",
    "        return 9999\n",
    "    else:\n",
    "        return 1"
   ]
  },
  {
   "cell_type": "code",
   "execution_count": 41,
   "metadata": {},
   "outputs": [],
   "source": [
    "data.Length_Employed = data.Length_Employed.apply(extract_num)"
   ]
  },
  {
   "cell_type": "code",
   "execution_count": 42,
   "metadata": {},
   "outputs": [],
   "source": [
    "def no_commas(string):\n",
    "    return int(string.replace(',', ''))"
   ]
  },
  {
   "cell_type": "code",
   "execution_count": 43,
   "metadata": {},
   "outputs": [],
   "source": [
    "data.Loan_Amount_Requested = data.Loan_Amount_Requested.apply(no_commas)"
   ]
  },
  {
   "cell_type": "code",
   "execution_count": 44,
   "metadata": {},
   "outputs": [],
   "source": [
    "def frequency_encoding(data, col):\n",
    "    encoding = data.groupby(col).size()\n",
    "    encoding = encoding / len(data)\n",
    "    final = 'enc_' + col\n",
    "    data[final] = data[col].map(encoding)\n",
    "    \n",
    "    data.drop(col, axis=1, inplace=True)\n",
    "    \n",
    "    return encoding"
   ]
  },
  {
   "cell_type": "code",
   "execution_count": 45,
   "metadata": {},
   "outputs": [
    {
     "data": {
      "text/plain": [
       "Home_Owner\n",
       "Mortgage    0.428227\n",
       "None        0.000073\n",
       "Other       0.153876\n",
       "Own         0.076242\n",
       "Rent        0.341581\n",
       "dtype: float64"
      ]
     },
     "execution_count": 45,
     "metadata": {},
     "output_type": "execute_result"
    }
   ],
   "source": [
    "frequency_encoding(data, 'Home_Owner')"
   ]
  },
  {
   "cell_type": "code",
   "execution_count": 46,
   "metadata": {},
   "outputs": [
    {
     "data": {
      "text/plain": [
       "Income_Verified\n",
       "VERIFIED - income           0.361789\n",
       "VERIFIED - income source    0.322268\n",
       "not verified                0.315943\n",
       "dtype: float64"
      ]
     },
     "execution_count": 46,
     "metadata": {},
     "output_type": "execute_result"
    }
   ],
   "source": [
    "frequency_encoding(data, 'Income_Verified')"
   ]
  },
  {
   "cell_type": "code",
   "execution_count": 47,
   "metadata": {},
   "outputs": [
    {
     "data": {
      "text/plain": [
       "Purpose_Of_Loan\n",
       "car                   0.011499\n",
       "credit_card           0.224188\n",
       "debt_consolidation    0.589385\n",
       "educational           0.000727\n",
       "home_improvement      0.056436\n",
       "house                 0.004806\n",
       "major_purchase        0.020858\n",
       "medical               0.009615\n",
       "moving                0.006116\n",
       "other                 0.050561\n",
       "renewable_energy      0.000752\n",
       "small_business        0.014840\n",
       "vacation              0.005306\n",
       "wedding               0.004911\n",
       "dtype: float64"
      ]
     },
     "execution_count": 47,
     "metadata": {},
     "output_type": "execute_result"
    }
   ],
   "source": [
    "frequency_encoding(data, 'Purpose_Of_Loan')"
   ]
  },
  {
   "cell_type": "code",
   "execution_count": 48,
   "metadata": {},
   "outputs": [
    {
     "data": {
      "text/plain": [
       "Gender\n",
       "Female    0.287957\n",
       "Male      0.712043\n",
       "dtype: float64"
      ]
     },
     "execution_count": 48,
     "metadata": {},
     "output_type": "execute_result"
    }
   ],
   "source": [
    "frequency_encoding(data, 'Gender')"
   ]
  },
  {
   "cell_type": "code",
   "execution_count": null,
   "metadata": {},
   "outputs": [],
   "source": []
  },
  {
   "cell_type": "markdown",
   "metadata": {},
   "source": [
    "## Feature Generation"
   ]
  },
  {
   "cell_type": "code",
   "execution_count": 49,
   "metadata": {},
   "outputs": [],
   "source": [
    "data['Monthly_Income'] = data['Annual_Income'] / 12\n",
    "data['Debt'] = data.Debt_To_Income * data.Monthly_Income\n",
    "data['Latent_Accounts'] = data.Total_Accounts - data.Number_Open_Accounts"
   ]
  },
  {
   "cell_type": "code",
   "execution_count": 50,
   "metadata": {},
   "outputs": [],
   "source": [
    "data['Experienced'] = 0\n",
    "data.Experienced[data.Length_Employed >= 6] = 1"
   ]
  },
  {
   "cell_type": "code",
   "execution_count": 51,
   "metadata": {},
   "outputs": [],
   "source": [
    "data['LoanRequest_to_MonthlyIncome_Ratio'] = data.Loan_Amount_Requested /data.Monthly_Income\n",
    "data['LoanRequest_to_AnnualIncome_Ratio'] = data.Loan_Amount_Requested / data.Annual_Income"
   ]
  },
  {
   "cell_type": "code",
   "execution_count": null,
   "metadata": {},
   "outputs": [],
   "source": []
  },
  {
   "cell_type": "markdown",
   "metadata": {},
   "source": [
    "## Data Transformation"
   ]
  },
  {
   "cell_type": "code",
   "execution_count": 19,
   "metadata": {},
   "outputs": [],
   "source": [
    "data.Loan_Amount_Requested = data.Loan_Amount_Requested.apply(np.sqrt)\n",
    "data.Annual_Income = data.Annual_Income.apply(np.log)\n",
    "data.Number_Open_Accounts = data.Number_Open_Accounts.apply(np.sqrt)\n",
    "data.Total_Accounts = data.Total_Accounts.apply(np.sqrt)\n",
    "data.Monthly_Income = data.Monthly_Income.apply(np.log)\n",
    "data.Debt = data.Debt.apply(np.sqrt)\n",
    "data.Latent_Accounts = data.Latent_Accounts.apply(np.sqrt)"
   ]
  },
  {
   "cell_type": "code",
   "execution_count": null,
   "metadata": {},
   "outputs": [],
   "source": []
  },
  {
   "cell_type": "markdown",
   "metadata": {},
   "source": [
    "## Data Scaling"
   ]
  },
  {
   "cell_type": "code",
   "execution_count": 20,
   "metadata": {},
   "outputs": [],
   "source": [
    "idx = data.columns\n",
    "\n",
    "scaler = StandardScaler()\n",
    "scaled_data = scaler.fit_transform(data)\n",
    "scaled_data = pd.DataFrame(scaled_data, columns=idx)\n",
    "\n",
    "copy_scaled_data = scaled_data.copy()\n",
    "train_final = copy_scaled_data[0:164309]\n",
    "test_final = copy_scaled_data[164309:]"
   ]
  },
  {
   "cell_type": "code",
   "execution_count": null,
   "metadata": {},
   "outputs": [],
   "source": []
  },
  {
   "cell_type": "markdown",
   "metadata": {},
   "source": [
    "## Final Model"
   ]
  },
  {
   "cell_type": "code",
   "execution_count": 21,
   "metadata": {},
   "outputs": [],
   "source": [
    "xgb = XGBClassifier(random_state=96, colsample_bytree=0.7, max_depth=6, gamma=.01)\n",
    "optimization_dict = {'max_depth': [4], 'n_estimators': [200]}\n",
    "model = GridSearchCV(xgb, optimization_dict, scoring='accuracy', verbose=1, n_jobs=-1)"
   ]
  },
  {
   "cell_type": "code",
   "execution_count": 22,
   "metadata": {},
   "outputs": [
    {
     "name": "stdout",
     "output_type": "stream",
     "text": [
      "Fitting 3 folds for each of 1 candidates, totalling 3 fits\n"
     ]
    },
    {
     "name": "stderr",
     "output_type": "stream",
     "text": [
      "[Parallel(n_jobs=-1)]: Using backend LokyBackend with 8 concurrent workers.\n",
      "[Parallel(n_jobs=-1)]: Done   3 out of   3 | elapsed:   59.0s finished\n"
     ]
    },
    {
     "data": {
      "text/plain": [
       "GridSearchCV(cv='warn', error_score='raise-deprecating',\n",
       "             estimator=XGBClassifier(base_score=None, booster=None,\n",
       "                                     colsample_bylevel=None,\n",
       "                                     colsample_bynode=None,\n",
       "                                     colsample_bytree=0.7, gamma=0.01,\n",
       "                                     gpu_id=None, importance_type='gain',\n",
       "                                     interaction_constraints=None,\n",
       "                                     learning_rate=None, max_delta_step=None,\n",
       "                                     max_depth=6, min_child_weight=None,\n",
       "                                     missing=nan, monotone_constra...\n",
       "                                     num_parallel_tree=None,\n",
       "                                     objective='binary:logistic',\n",
       "                                     random_state=96, reg_alpha=None,\n",
       "                                     reg_lambda=None, scale_pos_weight=None,\n",
       "                                     subsample=None, tree_method=None,\n",
       "                                     validate_parameters=None, verbosity=None),\n",
       "             iid='warn', n_jobs=-1,\n",
       "             param_grid={'max_depth': [4], 'n_estimators': [200]},\n",
       "             pre_dispatch='2*n_jobs', refit=True, return_train_score=False,\n",
       "             scoring='accuracy', verbose=1)"
      ]
     },
     "execution_count": 22,
     "metadata": {},
     "output_type": "execute_result"
    }
   ],
   "source": [
    "model.fit(train_final, y)"
   ]
  },
  {
   "cell_type": "code",
   "execution_count": null,
   "metadata": {},
   "outputs": [],
   "source": []
  },
  {
   "cell_type": "markdown",
   "metadata": {},
   "source": [
    "## Prediction and Output"
   ]
  },
  {
   "cell_type": "code",
   "execution_count": 23,
   "metadata": {},
   "outputs": [],
   "source": [
    "test_final.fillna(-0.548024, inplace=True)\n",
    "ID = test.Loan_ID"
   ]
  },
  {
   "cell_type": "code",
   "execution_count": 24,
   "metadata": {},
   "outputs": [],
   "source": [
    "final = model.predict(test_final)\n",
    "dv = pd.DataFrame(ID)\n",
    "dv['Interest_Rate'] = final\n",
    "dv.to_csv('result.csv', index=False)"
   ]
  },
  {
   "cell_type": "code",
   "execution_count": null,
   "metadata": {},
   "outputs": [],
   "source": []
  }
 ],
 "metadata": {
  "kernelspec": {
   "display_name": "Python 3",
   "language": "python",
   "name": "python3"
  },
  "language_info": {
   "codemirror_mode": {
    "name": "ipython",
    "version": 3
   },
   "file_extension": ".py",
   "mimetype": "text/x-python",
   "name": "python",
   "nbconvert_exporter": "python",
   "pygments_lexer": "ipython3",
   "version": "3.7.4"
  }
 },
 "nbformat": 4,
 "nbformat_minor": 2
}
